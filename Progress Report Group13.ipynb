{
 "cells": [
  {
   "cell_type": "markdown",
   "id": "46176c37",
   "metadata": {},
   "source": [
    "# Progress Report"
   ]
  },
  {
   "cell_type": "markdown",
   "id": "5500405c",
   "metadata": {},
   "source": [
    "### Introduction to Data & Data Collection:\n",
    "\n",
    "The project is based on Image denoising which is the process of taking away noise from an image. Information will be lost if there is an increase in noise. A digital camera's sensor illumination levels, damaged electrical circuits from heat, faulty memory locations in hardware, or bit errors during data transmission over long distances are a few examples of how noise can occur. Noise is when extra unnecessary pixel values are added to an image, resulting in the loss of information. We have obtained a dataset from University of California Berkeley in order to denoise the image.\n",
    "\n",
    "The dataset we are studying is found at,\n",
    "\n",
    "Data-https://github.com/BIDS/BSDS500 \n",
    "\n",
    "This Dataset  consists of 500 natural images.\n",
    "\n",
    "We plan to answer the following questions-\n",
    "1. How can we remove blind noise from images?\n",
    "2. How can we boost picture processing efficiency?\n",
    "3. How can we enhance photos taken in poor light?\n",
    "4. How do we restore old photos/documents?"
   ]
  },
  {
   "cell_type": "markdown",
   "id": "8e23e5db",
   "metadata": {},
   "source": [
    "### Any changes:\n",
    "The scope has not changed since the check-in proposal slides.\n",
    "\n",
    "Noises are present in the real-world photos that are photographed. These noises may emerge for a variety of causes, including unstable electric signals, broken camera sensors, dim illumination, lost data during long-distance data transmission, etc. As a result of noise, the original pixel values are sometimes replaced by random values, which can reduce the quality of the acquired image and result in information loss. Therefore, when it comes to low-level vision tasks and image processing, it is necessary to eliminate these noises from pictures.\n"
   ]
  },
  {
   "cell_type": "markdown",
   "id": "b0f4f422",
   "metadata": {},
   "source": [
    "### Data:\n",
    "For our problem set,we need clean images, first we collected high quality images from random sources -\n",
    "1. Smartphone Image Denoising Dataset (SIDD)\n",
    "2. Real Low-Light Image Noise Reduction Dataset (RENOIR)\n",
    "3. NIND -Natural Image Noise Dataset\n",
    "4. University of california berkeley Segmentation Data Set and Benchmarks 500 (BSDS500)\n",
    "\n",
    "There were four distinct kinds of datasets gathered; the BSDS500 dataset had 500 natural photos, all of which were of good quality. Of the 500 photos, we divided them into 400 train images and 100 test images.then we create patches for each image,We will split each of these images into small patches.because, splitting images into patches and using these patches for training improve model performance in denoising.\n",
    "\n",
    "Then also the images in the dataset are of different sizes,we resize each image in the dataset to equal sizes for each image, patches of 40*40 pixels, 40-stride height, and various crop sizes are created.\n",
    "Since there are 500 total pictures in the dataset, there will be around 85000 patches for training and 21000 patches for the data.\n"
   ]
  },
  {
   "cell_type": "markdown",
   "id": "4fb9949b",
   "metadata": {},
   "source": [
    "### Exploratory data analysis:"
   ]
  },
  {
   "cell_type": "markdown",
   "id": "265ac9a8",
   "metadata": {},
   "source": [
    "### Visualization:"
   ]
  },
  {
   "cell_type": "markdown",
   "id": "512395e3",
   "metadata": {},
   "source": [
    "### ML analysis:"
   ]
  },
  {
   "cell_type": "markdown",
   "id": "fa37aaa9",
   "metadata": {},
   "source": [
    "### Reflection:\n",
    "\n",
    "The most challenging part of the project was collecting the dataset as initially we found images from different datasets from various sources. In a few datasets, images were taken from mobile phones while few other datasets contained images taken from DSLR cameras and also had limited images. Inorder to get higher accuracy we had to choose BSDS500 as it consisted of more than 500 images.\n",
    "In the preliminary analysis we observed that we need more images in order to get more accuracy from our noisy images. Also when the level of noise is too high, the model fails to provide good results. \n",
    "\n",
    "Are there any concrete results you can show at this point? If not, why not?\n",
    "\n",
    "\n",
    "Our biggest problems continue to be hardware, as well as figuring out appropriate algorithms to conduct analyses with.\n",
    "We believe we are on track to finish this project by the end of the semester,and we are having a plan to build a web application of the model and this is definitely worth proceeding with.\n",
    "\n",
    "Given your initial exploration of the data, is it worth proceeding with your project, why? If not, how will you move forward (method, data etc)?\n",
    "\n"
   ]
  },
  {
   "cell_type": "markdown",
   "id": "45be5276",
   "metadata": {},
   "source": [
    "### Next steps:\n",
    "Going forward, we're looking to denoise the images with higher accuracy. Ideally, we're planning on completing one or two a week, which should allow us to hit the deadline."
   ]
  },
  {
   "cell_type": "markdown",
   "id": "7c907a9c",
   "metadata": {},
   "source": []
  }
 ],
 "metadata": {
  "kernelspec": {
   "display_name": "Python 3",
   "language": "python",
   "name": "python3"
  },
  "language_info": {
   "codemirror_mode": {
    "name": "ipython",
    "version": 3
   },
   "file_extension": ".py",
   "mimetype": "text/x-python",
   "name": "python",
   "nbconvert_exporter": "python",
   "pygments_lexer": "ipython3",
   "version": "3.6.8"
  }
 },
 "nbformat": 4,
 "nbformat_minor": 5
}
